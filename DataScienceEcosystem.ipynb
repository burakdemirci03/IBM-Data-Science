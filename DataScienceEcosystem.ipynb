{
 "cells": [
  {
   "cell_type": "markdown",
   "id": "45efbe8c-ff54-4488-acf1-ac1cc636b615",
   "metadata": {},
   "source": [
    "# Data Science Tools and Ecosystem"
   ]
  },
  {
   "cell_type": "markdown",
   "id": "6bcab947-f35e-4312-9856-45e49614037c",
   "metadata": {},
   "source": [
    "In this notebook, Data Science Tools and Ecosystem are summarized."
   ]
  },
  {
   "cell_type": "markdown",
   "id": "bdaf4e76-b9bc-470a-93bb-1d00e6c58e94",
   "metadata": {},
   "source": [
    "Some of the popular languages that Data Scientists use are:"
   ]
  },
  {
   "cell_type": "markdown",
   "id": "aa0ae28d-5724-40e0-82be-eada677e7e94",
   "metadata": {},
   "source": [
    "1. Python\n",
    "2. R\n",
    "3. SQL\n",
    "4. Julia\n",
    "5. Java\n",
    "6. C++"
   ]
  },
  {
   "cell_type": "markdown",
   "id": "c8a97416-fda2-42cd-b641-0e9b9240f518",
   "metadata": {},
   "source": [
    "Some of the commonly used libraries used by Data Scientists include:"
   ]
  },
  {
   "cell_type": "markdown",
   "id": "a21b656e-9e54-44f6-b0cd-f68fad47daf9",
   "metadata": {},
   "source": [
    "1. Pandas\n",
    "2. NumPy\n",
    "3. SciKit-Learn\n",
    "4. Matplotlib\n",
    "5. Seaborn\n",
    "6. Keras"
   ]
  },
  {
   "cell_type": "markdown",
   "id": "d13ede40-cc05-48e1-b329-ed51e1551681",
   "metadata": {},
   "source": [
    "| **Data Science Tools** | \n",
    "|:--------|\n",
    "| Apache Hadoop | \n",
    "| TensorFlow |\n",
    "| Jupyter Notebook |"
   ]
  },
  {
   "cell_type": "markdown",
   "id": "de2e0763-b489-414d-bd1e-67057ebe5495",
   "metadata": {},
   "source": [
    "### Below are a few examples of evaluating arithmetic expressions in Python."
   ]
  },
  {
   "cell_type": "code",
   "execution_count": 1,
   "id": "c9ed88f6-4ada-4190-9af4-de0b4f47a303",
   "metadata": {},
   "outputs": [
    {
     "data": {
      "text/plain": [
       "17"
      ]
     },
     "execution_count": 1,
     "metadata": {},
     "output_type": "execute_result"
    }
   ],
   "source": [
    "#This a simple arithmetic expression to multiply then add integers.\n",
    "(3*4)+5"
   ]
  },
  {
   "cell_type": "code",
   "execution_count": 2,
   "id": "c7a244a4-09d9-41aa-ad1b-ae59c088b4f8",
   "metadata": {},
   "outputs": [
    {
     "data": {
      "text/plain": [
       "3.3333333333333335"
      ]
     },
     "execution_count": 2,
     "metadata": {},
     "output_type": "execute_result"
    }
   ],
   "source": [
    "# This will convert 200 minutes to hours by diving by 60.\n",
    "200/60"
   ]
  },
  {
   "cell_type": "markdown",
   "id": "cf434696-319a-4622-9eb2-1e66d8543b29",
   "metadata": {},
   "source": [
    "**Objectives:**\n",
    "* Some Data Science Languages\n",
    "* Some common Data Science Libraries\n",
    "* Some of the Data Science Tools\n",
    "* Arithmetic Expressions in Python"
   ]
  },
  {
   "cell_type": "markdown",
   "id": "4b3b4689-ca11-4f32-a379-3f0285421d29",
   "metadata": {},
   "source": [
    "## Author\n",
    "Burak Demirci"
   ]
  },
  {
   "cell_type": "code",
   "execution_count": null,
   "id": "7f42a1f6-57b8-46ee-941a-86f69e9f7803",
   "metadata": {},
   "outputs": [],
   "source": []
  }
 ],
 "metadata": {
  "kernelspec": {
   "display_name": "Python 3 (ipykernel)",
   "language": "python",
   "name": "python3"
  },
  "language_info": {
   "codemirror_mode": {
    "name": "ipython",
    "version": 3
   },
   "file_extension": ".py",
   "mimetype": "text/x-python",
   "name": "python",
   "nbconvert_exporter": "python",
   "pygments_lexer": "ipython3",
   "version": "3.11.5"
  }
 },
 "nbformat": 4,
 "nbformat_minor": 5
}
